{
 "cells": [
  {
   "cell_type": "markdown",
   "id": "0366694b",
   "metadata": {},
   "source": [
    "cell 单元格  \n",
    "两个状态：  \n",
    "选中-->编辑  按下ESC  \n",
    "编辑-->选中  按下Enter  \n",
    "\n",
    "单元格模式：  \n",
    "code 编码模式 运行：ctrl+enter  \n",
    "makedowm 文本模式  \n",
    "两个模式的切换：按下M切换markdowm  \n",
    "           按下Y切换code  "
   ]
  },
  {
   "cell_type": "markdown",
   "id": "fc1e67e5",
   "metadata": {},
   "source": [
    "单元格操作：  \n",
    "前提：单元格处以选中状态  \n",
    "1.新增单元：按B单元格下方新增  \n",
    "         按A单元格上方新增  \n",
    "2.删除单元格：双击D   \n",
    "3.剪切单元格 按X  \n",
    "4.复制单元格 按C  \n",
    "5.粘贴单元格 按V  \n",
    "6.撤销单元格 按Z  "
   ]
  },
  {
   "cell_type": "markdown",
   "id": "c2d1f643",
   "metadata": {},
   "source": [
    "查看文档shift+tab"
   ]
  },
  {
   "cell_type": "markdown",
   "id": "4749d240",
   "metadata": {},
   "source": [
    "#### 查看代码运行时间 \n",
    "%time #一次运行时间  \n",
    "%timeit #多次运行平均耗时  \n",
    "%%time和%%timeit可以运行多行代码  "
   ]
  },
  {
   "cell_type": "markdown",
   "id": "4f359bdd",
   "metadata": {},
   "source": [
    "1. 查看文档： shift+tab\n",
    "2. 输入输出历史： In Out \n",
    "3. %time %timeit %%time %%timeit  \n",
    "\n",
    "numpy:\n",
    "1. 特点: 数据类型相同的有序的数据集合，如果初始化的数据类型不同，会强制类型统一\n",
    "\t 优先级： str > float > int\n",
    "2. 构造：np.array(list)\n",
    "\t np.ones(shape, dtype) #”1“来填充 \n",
    "                 np.zeros()  #”0“填充\n",
    "                 np.full(shape, dtype, fill_value)  #指定数字填充\n",
    "\t np.eye(N) #单位矩阵（矩阵除法）\n",
    "\t np.linspace(start, stop, num)  #等差数列  设置个数\n",
    "                 np.arange([start], stop, [step]) #等差数列 设置步长\n",
    "\t np.random.randint()  #随机整数 size等于shape\n",
    "\t np.random.randn() #随机标准正态分布\n",
    "\t np.random.normal(loc，scale，size) #普通正态分布 设置期望，方差和size\n",
    "\t np.random.random() #生成小数\n",
    "\t np.random.permutation() #随机索引\n",
    "3. 属性：ndim：维度  \n",
    "              shape：形状 \n",
    "              size：总长度\n",
    "              dtype：元素类型\n",
    "4. 索引：访问元素：arr[index1, index2, index3...]\n",
    "\t 访问行：arr[行索引]\n",
    "\t 访问列：arr[:,列索引]\n",
    "\t 特殊访问的方式： 使用列表（索引列表、BOOL列表）\n",
    "5. 切片: 在每一个维度上指定切片范围\n",
    "\t eg. arr[rowindex1:rowindex2,colindex1:colindex2]\n",
    "6. 聚合运算:\n",
    "\t sum()  mean()  std()  var()  argmax()  argmin()  np.median() \n",
    "\t any()  all()   经常与逻辑表达式配合，比如查询一组数据中大于均值的所有数\n",
    "7. 广播运算：\n",
    "\t 1. 缺失维度补1\n",
    "\t 2. 用已有值填充\n",
    "\t 最终目的：就是保证参与运算的两个数组形状一致\n",
    "\t array + num\n",
    "8. 排序\n",
    "\tnp.sort() 快速排序、堆排序 \n",
    "\tnp.partition()\n",
    "9.变形\n",
    "                arr.reshape() 参数是一个元组\n",
    "                eg. arr.reshape((4,5))\n",
    "10.级联 \n",
    "                display(arr1,arr2) 相当于print\n",
    "                np.concatenate((arr1,arr2),axis=1) #使用axis控制连接方向，axis指连接的维度\n",
    "                np.hastack((arr1,arr2))   #horizontal水平连接\n",
    "                np.vastack((arr1,arr2))   #vertical水平连接\n",
    "\n",
    "         \n",
    "\n",
    "\n",
    "\n",
    "\n",
    "\n",
    "\n",
    "\n",
    "\n",
    "\n",
    "\n",
    "\t "
   ]
  },
  {
   "cell_type": "markdown",
   "id": "96cb5b5f",
   "metadata": {},
   "source": [
    "### 5.切分"
   ]
  },
  {
   "cell_type": "markdown",
   "id": "df9a249f",
   "metadata": {},
   "source": [
    "np.split  \n",
    "np.vasplit  \n",
    "np.hsplit\n"
   ]
  },
  {
   "cell_type": "code",
   "execution_count": 1,
   "id": "160a0548",
   "metadata": {},
   "outputs": [],
   "source": [
    "import numpy as np"
   ]
  },
  {
   "cell_type": "code",
   "execution_count": 2,
   "id": "f46cc41e",
   "metadata": {},
   "outputs": [
    {
     "data": {
      "text/plain": [
       "array([[26, 99, 50, 17, 96, 83],\n",
       "       [ 9, 70, 19,  9, 49, 12],\n",
       "       [34, 59, 77, 21, 77, 85],\n",
       "       [ 0, 21, 60, 66, 33, 52],\n",
       "       [39, 68, 34, 50, 31, 55],\n",
       "       [92,  3, 35, 59, 22, 65]])"
      ]
     },
     "execution_count": 2,
     "metadata": {},
     "output_type": "execute_result"
    }
   ],
   "source": [
    "arr = np.random.randint(0,100,size=(6,6))\n",
    "arr"
   ]
  },
  {
   "cell_type": "code",
   "execution_count": 11,
   "id": "7cc62213",
   "metadata": {},
   "outputs": [
    {
     "data": {
      "text/plain": [
       "array([[59, 86, 61, 46, 54, 52],\n",
       "       [46, 31,  6,  6, 95, 12],\n",
       "       [92, 35,  6, 62, 90, 21]])"
      ]
     },
     "metadata": {},
     "output_type": "display_data"
    },
    {
     "data": {
      "text/plain": [
       "array([[96, 94, 18, 26, 98,  6],\n",
       "       [52, 89, 15, 56, 53, 14],\n",
       "       [55, 68, 69, 84, 71,  8]])"
      ]
     },
     "metadata": {},
     "output_type": "display_data"
    }
   ],
   "source": [
    "part1, part2 = np.split(arr,indices_or_sections=2,axis=0)\n",
    "display(part1, part2)"
   ]
  },
  {
   "cell_type": "code",
   "execution_count": null,
   "id": "2ca5d0de",
   "metadata": {},
   "outputs": [],
   "source": []
  },
  {
   "cell_type": "code",
   "execution_count": 9,
   "id": "b367b716",
   "metadata": {},
   "outputs": [
    {
     "data": {
      "text/plain": [
       "array([[97, 77, 20],\n",
       "       [ 7, 83, 94],\n",
       "       [81, 57, 73],\n",
       "       [89,  5, 54],\n",
       "       [87, 44, 36],\n",
       "       [ 0, 91, 50]])"
      ]
     },
     "metadata": {},
     "output_type": "display_data"
    },
    {
     "data": {
      "text/plain": [
       "array([[40, 95, 17],\n",
       "       [ 7, 11,  7],\n",
       "       [93, 74, 70],\n",
       "       [ 2, 16, 62],\n",
       "       [16, 36, 24],\n",
       "       [49, 21, 29]])"
      ]
     },
     "metadata": {},
     "output_type": "display_data"
    }
   ],
   "source": [
    "part1, part2 = np.split(arr,indices_or_sections=2,axis=1)\n",
    "display(part1, part2)"
   ]
  },
  {
   "cell_type": "code",
   "execution_count": 14,
   "id": "5b42b1bc",
   "metadata": {},
   "outputs": [
    {
     "data": {
      "text/plain": [
       "array([[97, 77],\n",
       "       [ 7, 83],\n",
       "       [81, 57],\n",
       "       [89,  5],\n",
       "       [87, 44],\n",
       "       [ 0, 91]])"
      ]
     },
     "metadata": {},
     "output_type": "display_data"
    },
    {
     "data": {
      "text/plain": [
       "array([[20],\n",
       "       [94],\n",
       "       [73],\n",
       "       [54],\n",
       "       [36],\n",
       "       [50]])"
      ]
     },
     "metadata": {},
     "output_type": "display_data"
    },
    {
     "data": {
      "text/plain": [
       "array([[40, 95, 17],\n",
       "       [ 7, 11,  7],\n",
       "       [93, 74, 70],\n",
       "       [ 2, 16, 62],\n",
       "       [16, 36, 24],\n",
       "       [49, 21, 29]])"
      ]
     },
     "metadata": {},
     "output_type": "display_data"
    }
   ],
   "source": [
    "part1, part2, part3 = np.split(arr,indices_or_sections=[2,3],axis=1)\n",
    "display(part1, part2, part3)"
   ]
  },
  {
   "cell_type": "markdown",
   "id": "c45f44c4",
   "metadata": {},
   "source": [
    "### copy（）"
   ]
  },
  {
   "cell_type": "code",
   "execution_count": 15,
   "id": "5e274337",
   "metadata": {},
   "outputs": [
    {
     "data": {
      "text/plain": [
       "array([[97, 77, 20, 40, 95, 17],\n",
       "       [ 7, 83, 94,  7, 11,  7],\n",
       "       [81, 57, 73, 93, 74, 70],\n",
       "       [89,  5, 54,  2, 16, 62],\n",
       "       [87, 44, 36, 16, 36, 24],\n",
       "       [ 0, 91, 50, 49, 21, 29]])"
      ]
     },
     "execution_count": 15,
     "metadata": {},
     "output_type": "execute_result"
    }
   ],
   "source": [
    "copy_array = arr.copy()\n",
    "arr"
   ]
  },
  {
   "cell_type": "code",
   "execution_count": 19,
   "id": "3eff147a",
   "metadata": {},
   "outputs": [
    {
     "data": {
      "text/plain": [
       "array([[1000,   77,   20,   40,   95,   17],\n",
       "       [   7,   83,   94,    7,   11,    7],\n",
       "       [  81,   57,   73,   93,   74,   70],\n",
       "       [  89,    5,   54,    2,   16,   62],\n",
       "       [  87,   44,   36,   16,   36,   24],\n",
       "       [   0,   91,   50,   49,   21,   29]])"
      ]
     },
     "execution_count": 19,
     "metadata": {},
     "output_type": "execute_result"
    }
   ],
   "source": [
    "copy_array[0,0] = 1000\n",
    "copy_array"
   ]
  },
  {
   "cell_type": "markdown",
   "id": "b63a69f9",
   "metadata": {},
   "source": [
    "### 聚合"
   ]
  },
  {
   "cell_type": "markdown",
   "id": "c1761af9",
   "metadata": {},
   "source": [
    "#### 1.求和"
   ]
  },
  {
   "cell_type": "code",
   "execution_count": 23,
   "id": "19a043d8",
   "metadata": {},
   "outputs": [
    {
     "data": {
      "text/plain": [
       "array([9, 6, 3, 2, 6, 3, 9, 5, 7, 9])"
      ]
     },
     "execution_count": 23,
     "metadata": {},
     "output_type": "execute_result"
    }
   ],
   "source": [
    "arr = np.random.randint(0,10,size=10)\n",
    "arr"
   ]
  },
  {
   "cell_type": "code",
   "execution_count": 24,
   "id": "4e58d8dd",
   "metadata": {},
   "outputs": [
    {
     "data": {
      "text/plain": [
       "59"
      ]
     },
     "execution_count": 24,
     "metadata": {},
     "output_type": "execute_result"
    }
   ],
   "source": [
    "arr.sum()"
   ]
  },
  {
   "cell_type": "code",
   "execution_count": 25,
   "id": "9b901e6a",
   "metadata": {},
   "outputs": [
    {
     "data": {
      "text/plain": [
       "5.9"
      ]
     },
     "execution_count": 25,
     "metadata": {},
     "output_type": "execute_result"
    }
   ],
   "source": [
    "arr.mean() #平均数"
   ]
  },
  {
   "cell_type": "code",
   "execution_count": 28,
   "id": "47990180",
   "metadata": {},
   "outputs": [
    {
     "data": {
      "text/plain": [
       "2"
      ]
     },
     "execution_count": 28,
     "metadata": {},
     "output_type": "execute_result"
    }
   ],
   "source": [
    "arr.min()"
   ]
  },
  {
   "cell_type": "code",
   "execution_count": 26,
   "id": "ce0e95a5",
   "metadata": {},
   "outputs": [
    {
     "data": {
      "text/plain": [
       "9"
      ]
     },
     "execution_count": 26,
     "metadata": {},
     "output_type": "execute_result"
    }
   ],
   "source": [
    "arr.max()"
   ]
  },
  {
   "cell_type": "code",
   "execution_count": 29,
   "id": "095d64df",
   "metadata": {},
   "outputs": [
    {
     "data": {
      "text/plain": [
       "0"
      ]
     },
     "execution_count": 29,
     "metadata": {},
     "output_type": "execute_result"
    }
   ],
   "source": [
    "arr.argmax() #最大值的索引"
   ]
  },
  {
   "cell_type": "code",
   "execution_count": 30,
   "id": "a6ca47d1",
   "metadata": {},
   "outputs": [
    {
     "data": {
      "text/plain": [
       "3"
      ]
     },
     "execution_count": 30,
     "metadata": {},
     "output_type": "execute_result"
    }
   ],
   "source": [
    "arr.argmin() #最小值的索引"
   ]
  },
  {
   "cell_type": "code",
   "execution_count": 31,
   "id": "9af8ce64",
   "metadata": {},
   "outputs": [
    {
     "data": {
      "text/plain": [
       "2.5079872407968904"
      ]
     },
     "execution_count": 31,
     "metadata": {},
     "output_type": "execute_result"
    }
   ],
   "source": [
    "arr.std() #方差"
   ]
  },
  {
   "cell_type": "code",
   "execution_count": 32,
   "id": "940d0d35",
   "metadata": {},
   "outputs": [
    {
     "data": {
      "text/plain": [
       "6.29"
      ]
     },
     "execution_count": 32,
     "metadata": {},
     "output_type": "execute_result"
    }
   ],
   "source": [
    "arr.var() #标准方差"
   ]
  },
  {
   "cell_type": "code",
   "execution_count": 34,
   "id": "ecb547e9",
   "metadata": {},
   "outputs": [
    {
     "data": {
      "text/plain": [
       "6.0"
      ]
     },
     "execution_count": 34,
     "metadata": {},
     "output_type": "execute_result"
    }
   ],
   "source": [
    "np.median(arr) #中位数"
   ]
  },
  {
   "cell_type": "code",
   "execution_count": 40,
   "id": "0645c88c",
   "metadata": {},
   "outputs": [
    {
     "data": {
      "text/plain": [
       "array([ 0,  1,  2,  3,  4,  5,  6,  7,  8,  9, 10])"
      ]
     },
     "execution_count": 40,
     "metadata": {},
     "output_type": "execute_result"
    }
   ],
   "source": [
    "data = np.arange(0,11,step=1)\n",
    "data"
   ]
  },
  {
   "cell_type": "code",
   "execution_count": 42,
   "id": "d012031b",
   "metadata": {},
   "outputs": [
    {
     "data": {
      "text/plain": [
       "array([2.5, 7.5])"
      ]
     },
     "execution_count": 42,
     "metadata": {},
     "output_type": "execute_result"
    }
   ],
   "source": [
    "np.percentile(data,[25,75]) #第二哥参数值是要求百分位的位置"
   ]
  },
  {
   "cell_type": "code",
   "execution_count": null,
   "id": "0c6f606f",
   "metadata": {},
   "outputs": [],
   "source": [
    "#any 检测一个bool数组中，是否存在一个Ture\n",
    "#all 检测一个bool数组中，是否全为Ture"
   ]
  },
  {
   "cell_type": "code",
   "execution_count": 45,
   "id": "5a290b3c",
   "metadata": {},
   "outputs": [
    {
     "data": {
      "text/plain": [
       "False"
      ]
     },
     "execution_count": 45,
     "metadata": {},
     "output_type": "execute_result"
    }
   ],
   "source": [
    "bool_list = np.array([True,True,False])\n",
    "bool_list.all()"
   ]
  },
  {
   "cell_type": "code",
   "execution_count": 46,
   "id": "4b888cad",
   "metadata": {},
   "outputs": [
    {
     "data": {
      "text/plain": [
       "True"
      ]
     },
     "execution_count": 46,
     "metadata": {},
     "output_type": "execute_result"
    }
   ],
   "source": [
    "bool_list = np.array([True,True,False])\n",
    "bool_list.any()"
   ]
  },
  {
   "cell_type": "markdown",
   "id": "908fd2cb",
   "metadata": {},
   "source": [
    "找出一组数据中，所有大于该数组平均值的值"
   ]
  },
  {
   "cell_type": "code",
   "execution_count": 47,
   "id": "1d5379b5",
   "metadata": {},
   "outputs": [
    {
     "data": {
      "text/plain": [
       "array([9, 6, 3, 2, 6, 3, 9, 5, 7, 9])"
      ]
     },
     "execution_count": 47,
     "metadata": {},
     "output_type": "execute_result"
    }
   ],
   "source": [
    "arr"
   ]
  },
  {
   "cell_type": "code",
   "execution_count": 50,
   "id": "7712cc26",
   "metadata": {},
   "outputs": [
    {
     "data": {
      "text/plain": [
       "array([ True,  True, False, False,  True, False,  True, False,  True,\n",
       "        True])"
      ]
     },
     "execution_count": 50,
     "metadata": {},
     "output_type": "execute_result"
    }
   ],
   "source": [
    "condition = arr > arr.mean() #广播运算，支持一个arry和任意一个数运算\n",
    "condition"
   ]
  },
  {
   "cell_type": "code",
   "execution_count": 51,
   "id": "edad5d79",
   "metadata": {},
   "outputs": [
    {
     "data": {
      "text/plain": [
       "array([9, 6, 6, 9, 7, 9])"
      ]
     },
     "execution_count": 51,
     "metadata": {},
     "output_type": "execute_result"
    }
   ],
   "source": [
    "arr[condition]"
   ]
  },
  {
   "cell_type": "code",
   "execution_count": 59,
   "id": "39067607",
   "metadata": {},
   "outputs": [
    {
     "data": {
      "text/plain": [
       "False"
      ]
     },
     "execution_count": 59,
     "metadata": {},
     "output_type": "execute_result"
    }
   ],
   "source": [
    "#查看一个数组是否有大于十的值\n",
    "(arr > 10).any()"
   ]
  },
  {
   "cell_type": "code",
   "execution_count": 62,
   "id": "1ac9d2f2",
   "metadata": {},
   "outputs": [
    {
     "data": {
      "text/plain": [
       "array([[1, 2],\n",
       "       [3, 4]])"
      ]
     },
     "metadata": {},
     "output_type": "display_data"
    },
    {
     "data": {
      "text/plain": [
       "array([[2, 2],\n",
       "       [3, 4]])"
      ]
     },
     "metadata": {},
     "output_type": "display_data"
    }
   ],
   "source": [
    "#矩阵运算\n",
    "a = np.array([[1,2],[3,4]])\n",
    "b = np.array([[2,2],[3,4]])\n",
    "display(a, b)   "
   ]
  },
  {
   "cell_type": "code",
   "execution_count": 63,
   "id": "cbd7f4de",
   "metadata": {},
   "outputs": [
    {
     "data": {
      "text/plain": [
       "array([[ 8, 10],\n",
       "       [18, 22]])"
      ]
     },
     "execution_count": 63,
     "metadata": {},
     "output_type": "execute_result"
    }
   ],
   "source": [
    "np.dot(a,b) #a * b "
   ]
  },
  {
   "cell_type": "markdown",
   "id": "41394c29",
   "metadata": {},
   "source": [
    "#### 2.最大值最小值"
   ]
  },
  {
   "cell_type": "markdown",
   "id": "f4c5ffc2",
   "metadata": {},
   "source": [
    "#### 3.其他聚合操作"
   ]
  },
  {
   "cell_type": "markdown",
   "id": "e7e76523",
   "metadata": {},
   "source": [
    "#### 排序"
   ]
  },
  {
   "cell_type": "markdown",
   "id": "c7d91873",
   "metadata": {},
   "source": [
    "np.partition(a,k)  \n",
    "#k为正时，我们想要得到最小的k个数  \n",
    "#k为负时，我们想要得到最大的k个数  \n",
    "np.sort()"
   ]
  },
  {
   "cell_type": "code",
   "execution_count": 66,
   "id": "d9a5aeed",
   "metadata": {},
   "outputs": [
    {
     "data": {
      "text/plain": [
       "array([9865, 2075, 4738, ..., 4129, 6352, 2188])"
      ]
     },
     "execution_count": 66,
     "metadata": {},
     "output_type": "execute_result"
    }
   ],
   "source": [
    "data = np.random.permutation(10000)\n",
    "data"
   ]
  },
  {
   "cell_type": "code",
   "execution_count": 69,
   "id": "92369652",
   "metadata": {},
   "outputs": [
    {
     "data": {
      "text/plain": [
       "array([3, 2, 1, 0, 4])"
      ]
     },
     "execution_count": 69,
     "metadata": {},
     "output_type": "execute_result"
    }
   ],
   "source": [
    "np.partition(data,4)[:4] #[]代表的是切片"
   ]
  },
  {
   "cell_type": "code",
   "execution_count": 73,
   "id": "4cfa545c",
   "metadata": {},
   "outputs": [
    {
     "data": {
      "text/plain": [
       "array([9997, 9998, 9999])"
      ]
     },
     "execution_count": 73,
     "metadata": {},
     "output_type": "execute_result"
    }
   ],
   "source": [
    "np.partition(data,-3)[-3:] #"
   ]
  },
  {
   "cell_type": "markdown",
   "id": "dbb8af6c",
   "metadata": {},
   "source": [
    "## Pandas的数据结构"
   ]
  },
  {
   "cell_type": "code",
   "execution_count": null,
   "id": "5d2d1b9c",
   "metadata": {},
   "outputs": [],
   "source": [
    "numpy array 提供了运算基础\n",
    "pandas 提供了业务逻辑的处理方法\n",
    "\n",
    "series， dataframe #一维和二维的数据处理\n"
   ]
  },
  {
   "cell_type": "code",
   "execution_count": 1,
   "id": "cd939432",
   "metadata": {},
   "outputs": [],
   "source": [
    "# coding=utf8\n",
    "import matplotlib as mpl\n",
    "import pandas as pd\n",
    "from pandas import Series,DataFrame\n",
    "import numpy as np"
   ]
  },
  {
   "cell_type": "markdown",
   "id": "626f4bf1",
   "metadata": {},
   "source": [
    "### 1.series"
   ]
  },
  {
   "cell_type": "markdown",
   "id": "5b9a994d",
   "metadata": {},
   "source": [
    "series 是一种类似于一维数组的对象，由俩个部分组成：  \n",
    "values：一组数据（ndarry类型）  \n",
    "index：相关的数据索引标签  \n",
    "增加了key-value 的访问机制"
   ]
  },
  {
   "cell_type": "markdown",
   "id": "1e73aae5",
   "metadata": {},
   "source": [
    "#### 1）series的创建"
   ]
  },
  {
   "cell_type": "code",
   "execution_count": 6,
   "id": "e39e2099",
   "metadata": {},
   "outputs": [],
   "source": [
    "name = [\"tom\",\"lucy\",\"jack\",\"mery\"]\n",
    "s = Series(name)\n"
   ]
  },
  {
   "cell_type": "markdown",
   "id": "a7a63f78",
   "metadata": {},
   "source": [
    "由ndarray创建的是引用，而不是副本。对series元素的改变也会改变ndarray对象中的元素"
   ]
  },
  {
   "cell_type": "code",
   "execution_count": 77,
   "id": "9d66186b",
   "metadata": {},
   "outputs": [
    {
     "data": {
      "text/plain": [
       "['tom', 'lucy', 'jack', 'mery']"
      ]
     },
     "execution_count": 77,
     "metadata": {},
     "output_type": "execute_result"
    }
   ],
   "source": [
    "name"
   ]
  },
  {
   "cell_type": "code",
   "execution_count": 78,
   "id": "c1812da5",
   "metadata": {},
   "outputs": [
    {
     "data": {
      "text/plain": [
       "key1     tom\n",
       "key2    lucy\n",
       "key3    jack\n",
       "key4    mery\n",
       "dtype: object"
      ]
     },
     "execution_count": 78,
     "metadata": {},
     "output_type": "execute_result"
    }
   ],
   "source": [
    "s2 = Series(data=name,index=[\"key1\",\"key2\",\"key3\",\"key4\"])\n",
    "s2"
   ]
  },
  {
   "cell_type": "markdown",
   "id": "9ec109ed",
   "metadata": {},
   "source": [
    "#### 2)由字典创建 "
   ]
  },
  {
   "cell_type": "code",
   "execution_count": 3,
   "id": "64bfa5a0",
   "metadata": {},
   "outputs": [
    {
     "data": {
      "text/plain": [
       "k3     tom\n",
       "k1    mery\n",
       "k2    lucy\n",
       "dtype: object"
      ]
     },
     "execution_count": 3,
     "metadata": {},
     "output_type": "execute_result"
    }
   ],
   "source": [
    "dic = {\n",
    "    \"k3\":\"tom\",\n",
    "    \"k1\":\"mery\",\n",
    "    \"k2\":\"lucy\"\n",
    "}\n",
    "s3 = Series(data=dic)\n",
    "s3"
   ]
  },
  {
   "cell_type": "markdown",
   "id": "d5f5400c",
   "metadata": {},
   "source": [
    "练习：  \n",
    "使用多种方法创建Series"
   ]
  },
  {
   "cell_type": "code",
   "execution_count": 87,
   "id": "03e83b5b",
   "metadata": {},
   "outputs": [
    {
     "data": {
      "text/plain": [
       "语文    150\n",
       "数学    150\n",
       "英语    150\n",
       "理综    300\n",
       "dtype: int64"
      ]
     },
     "execution_count": 87,
     "metadata": {},
     "output_type": "execute_result"
    }
   ],
   "source": [
    "Series(data=[150,150,150,300],index=[\"语文\",\"数学\",\"英语\",\"理综\"])"
   ]
  },
  {
   "cell_type": "code",
   "execution_count": 4,
   "id": "50d53c5f",
   "metadata": {},
   "outputs": [
    {
     "data": {
      "text/plain": [
       "语文    150\n",
       "数学    150\n",
       "英语    150\n",
       "理综    300\n",
       "dtype: int64"
      ]
     },
     "execution_count": 4,
     "metadata": {},
     "output_type": "execute_result"
    }
   ],
   "source": [
    "dic = {\"语文\":150,\n",
    "       \"数学\":150,\n",
    "       \"英语\":150,\n",
    "       \"理综\":300\n",
    "}\n",
    "\n",
    "d = Series(dic)\n",
    "d"
   ]
  },
  {
   "cell_type": "markdown",
   "id": "cb2f2c7c",
   "metadata": {},
   "source": [
    "#### 3） Series的索引和切片"
   ]
  },
  {
   "cell_type": "code",
   "execution_count": 15,
   "id": "d51384b6",
   "metadata": {},
   "outputs": [
    {
     "data": {
      "text/plain": [
       "array([16, 70, 65, 34, 35])"
      ]
     },
     "execution_count": 15,
     "metadata": {},
     "output_type": "execute_result"
    }
   ],
   "source": [
    "arr = np.random.randint(0,100,size=5)\n",
    "arr"
   ]
  },
  {
   "cell_type": "code",
   "execution_count": 17,
   "id": "2e8ac557",
   "metadata": {},
   "outputs": [
    {
     "data": {
      "text/plain": [
       "0     tom\n",
       "1    lucy\n",
       "2    jack\n",
       "3    mery\n",
       "dtype: object"
      ]
     },
     "execution_count": 17,
     "metadata": {},
     "output_type": "execute_result"
    }
   ],
   "source": [
    "# Series的访问完全兼容numpy的数组访问\n",
    "name = [\"tom\",\"lucy\",\"jack\",\"mery\"]\n",
    "s = Series(name)\n",
    "s"
   ]
  },
  {
   "cell_type": "code",
   "execution_count": 93,
   "id": "984ab617",
   "metadata": {},
   "outputs": [
    {
     "data": {
      "text/plain": [
       "'tom'"
      ]
     },
     "execution_count": 93,
     "metadata": {},
     "output_type": "execute_result"
    }
   ],
   "source": [
    "s[0]"
   ]
  },
  {
   "cell_type": "code",
   "execution_count": 95,
   "id": "63b7e170",
   "metadata": {},
   "outputs": [
    {
     "data": {
      "text/plain": [
       "0     tom\n",
       "1    lucy\n",
       "1    lucy\n",
       "0     tom\n",
       "dtype: object"
      ]
     },
     "execution_count": 95,
     "metadata": {},
     "output_type": "execute_result"
    }
   ],
   "source": [
    "s[[0,1,1,0]]"
   ]
  },
  {
   "cell_type": "code",
   "execution_count": 96,
   "id": "5189e2fa",
   "metadata": {},
   "outputs": [
    {
     "data": {
      "text/plain": [
       "0     tom\n",
       "1    lucy\n",
       "dtype: object"
      ]
     },
     "execution_count": 96,
     "metadata": {},
     "output_type": "execute_result"
    }
   ],
   "source": [
    "s[[True,True,False,False]]"
   ]
  },
  {
   "cell_type": "code",
   "execution_count": 101,
   "id": "2577a44f",
   "metadata": {},
   "outputs": [
    {
     "data": {
      "text/plain": [
       "'lucy'"
      ]
     },
     "execution_count": 101,
     "metadata": {},
     "output_type": "execute_result"
    }
   ],
   "source": [
    "s[1]"
   ]
  },
  {
   "cell_type": "code",
   "execution_count": 30,
   "id": "dc51091e",
   "metadata": {},
   "outputs": [
    {
     "data": {
      "text/plain": [
       "语文    150\n",
       "数学    150\n",
       "dtype: int64"
      ]
     },
     "execution_count": 30,
     "metadata": {},
     "output_type": "execute_result"
    }
   ],
   "source": [
    "#使用loc, 配合显示索引，官方推荐的访问\n",
    "d.loc[\"语文\"]\n",
    "d.loc[[\"语文\",\"数学\"]]"
   ]
  },
  {
   "cell_type": "code",
   "execution_count": 34,
   "id": "8eac1859",
   "metadata": {},
   "outputs": [
    {
     "data": {
      "text/plain": [
       "语文    150\n",
       "数学    150\n",
       "dtype: int64"
      ]
     },
     "execution_count": 34,
     "metadata": {},
     "output_type": "execute_result"
    }
   ],
   "source": [
    "#使用iloc, 配合隐式索引，官方推荐的访问\n",
    "d.iloc[0]\n",
    "d.iloc[[0,1]]"
   ]
  },
  {
   "cell_type": "code",
   "execution_count": 53,
   "id": "cd7af74a",
   "metadata": {},
   "outputs": [],
   "source": [
    "#使用series的bool方式访问，需要注意索引对齐，顺序不要求一直，内容和长度要求一致\n",
    "s_bool = Series(data=[True,True,False,False],index=[\"语文\",\"数学\",\"英语\",\"理综\"])\n",
    "n_bool = np.array([True,True,False,False])\n",
    "l_lool = [True,True,False,False]"
   ]
  },
  {
   "cell_type": "code",
   "execution_count": 47,
   "id": "312fd2f7",
   "metadata": {},
   "outputs": [
    {
     "data": {
      "text/plain": [
       "语文    150\n",
       "数学    150\n",
       "dtype: int64"
      ]
     },
     "execution_count": 47,
     "metadata": {},
     "output_type": "execute_result"
    }
   ],
   "source": [
    "d[n_bool]"
   ]
  },
  {
   "cell_type": "code",
   "execution_count": 54,
   "id": "8c6dafa9",
   "metadata": {},
   "outputs": [
    {
     "data": {
      "text/plain": [
       "语文    150\n",
       "数学    150\n",
       "dtype: int64"
      ]
     },
     "execution_count": 54,
     "metadata": {},
     "output_type": "execute_result"
    }
   ],
   "source": [
    "d[s_bool]"
   ]
  },
  {
   "cell_type": "code",
   "execution_count": 50,
   "id": "e29c8dcd",
   "metadata": {},
   "outputs": [
    {
     "data": {
      "text/plain": [
       "语文    False\n",
       "数学    False\n",
       "英语    False\n",
       "理综     True\n",
       "dtype: bool"
      ]
     },
     "execution_count": 50,
     "metadata": {},
     "output_type": "execute_result"
    }
   ],
   "source": [
    "d > 150"
   ]
  },
  {
   "cell_type": "markdown",
   "id": "3d45bb06",
   "metadata": {},
   "source": [
    "##### 切片"
   ]
  },
  {
   "cell_type": "code",
   "execution_count": 5,
   "id": "40dab512",
   "metadata": {},
   "outputs": [
    {
     "data": {
      "text/plain": [
       "语文    150\n",
       "数学    150\n",
       "英语    150\n",
       "理综    300\n",
       "dtype: int64"
      ]
     },
     "execution_count": 5,
     "metadata": {},
     "output_type": "execute_result"
    }
   ],
   "source": [
    "d"
   ]
  },
  {
   "cell_type": "code",
   "execution_count": 57,
   "id": "c33923d3",
   "metadata": {},
   "outputs": [
    {
     "data": {
      "text/plain": [
       "数学    150\n",
       "英语    150\n",
       "dtype: int64"
      ]
     },
     "execution_count": 57,
     "metadata": {},
     "output_type": "execute_result"
    }
   ],
   "source": [
    "d[1:3]"
   ]
  },
  {
   "cell_type": "code",
   "execution_count": 58,
   "id": "69a312ea",
   "metadata": {},
   "outputs": [
    {
     "data": {
      "text/plain": [
       "语文    150\n",
       "数学    150\n",
       "英语    150\n",
       "dtype: int64"
      ]
     },
     "execution_count": 58,
     "metadata": {},
     "output_type": "execute_result"
    }
   ],
   "source": [
    "d[\"语文\":\"英语\"] #所有显示索引切片都是闭区间"
   ]
  },
  {
   "cell_type": "code",
   "execution_count": 61,
   "id": "0048baff",
   "metadata": {},
   "outputs": [
    {
     "data": {
      "text/plain": [
       "语文    150\n",
       "数学    150\n",
       "英语    150\n",
       "dtype: int64"
      ]
     },
     "execution_count": 61,
     "metadata": {},
     "output_type": "execute_result"
    }
   ],
   "source": [
    "d.loc[\"语文\":\"英语\"]"
   ]
  },
  {
   "cell_type": "code",
   "execution_count": 62,
   "id": "95fda5a9",
   "metadata": {},
   "outputs": [
    {
     "data": {
      "text/plain": [
       "数学    150\n",
       "英语    150\n",
       "dtype: int64"
      ]
     },
     "execution_count": 62,
     "metadata": {},
     "output_type": "execute_result"
    }
   ],
   "source": [
    "d.iloc[1:3]"
   ]
  },
  {
   "cell_type": "markdown",
   "id": "9da62330",
   "metadata": {},
   "source": [
    "索引访问：  \n",
    "  字典访问： s[key]     \n",
    "  下标访问： s[index]  \n",
    "  loc访问：  s.loc[key]  \n",
    "  iloc访问： s.iloc[index]  \n",
    "  列表访问： 结合上面4种方法  \n",
    "  Bool列表访问： list, numpy, 长度匹配  \n",
    "\t\t Series 长度匹配，索引匹配  \n",
    "切片操作：  \n",
    "\t注意： 索引操作都是闭区间，下标操作都是开区间  \n",
    "  下标： s[index1:index2]  \n",
    "  loc    \n",
    "  iloc  "
   ]
  },
  {
   "cell_type": "markdown",
   "id": "fb9b37f1",
   "metadata": {},
   "source": [
    "### 2.series的基本概念"
   ]
  },
  {
   "cell_type": "markdown",
   "id": "33da827c",
   "metadata": {},
   "source": [
    "可以通过shape，size，index，values等得到series的属性"
   ]
  },
  {
   "cell_type": "code",
   "execution_count": 12,
   "id": "fde1dbf2",
   "metadata": {},
   "outputs": [
    {
     "data": {
      "text/plain": [
       "语文    150\n",
       "数学    150\n",
       "英语    150\n",
       "理综    300\n",
       "dtype: int64"
      ]
     },
     "execution_count": 12,
     "metadata": {},
     "output_type": "execute_result"
    }
   ],
   "source": [
    "d"
   ]
  },
  {
   "cell_type": "code",
   "execution_count": 13,
   "id": "cf036a35",
   "metadata": {},
   "outputs": [
    {
     "data": {
      "text/plain": [
       "(4,)"
      ]
     },
     "execution_count": 13,
     "metadata": {},
     "output_type": "execute_result"
    }
   ],
   "source": [
    "d.shape "
   ]
  },
  {
   "cell_type": "code",
   "execution_count": 14,
   "id": "cfb4729f",
   "metadata": {},
   "outputs": [
    {
     "data": {
      "text/plain": [
       "4"
      ]
     },
     "execution_count": 14,
     "metadata": {},
     "output_type": "execute_result"
    }
   ],
   "source": [
    "d.size #元素的个数"
   ]
  },
  {
   "cell_type": "code",
   "execution_count": 15,
   "id": "191d663c",
   "metadata": {},
   "outputs": [
    {
     "data": {
      "text/plain": [
       "Index(['语文', '数学', '英语', '理综'], dtype='object')"
      ]
     },
     "execution_count": 15,
     "metadata": {},
     "output_type": "execute_result"
    }
   ],
   "source": [
    "#获取显示索引\n",
    "d.index"
   ]
  },
  {
   "cell_type": "code",
   "execution_count": 16,
   "id": "ce0ee7f0",
   "metadata": {},
   "outputs": [
    {
     "data": {
      "text/plain": [
       "array([150, 150, 150, 300], dtype=int64)"
      ]
     },
     "execution_count": 16,
     "metadata": {},
     "output_type": "execute_result"
    }
   ],
   "source": [
    "d.values"
   ]
  },
  {
   "cell_type": "code",
   "execution_count": 22,
   "id": "9ddf6cd8",
   "metadata": {},
   "outputs": [
    {
     "data": {
      "text/plain": [
       "True"
      ]
     },
     "execution_count": 22,
     "metadata": {},
     "output_type": "execute_result"
    }
   ],
   "source": [
    "#查找\n",
    "(d.index == \"语文\").any()"
   ]
  },
  {
   "cell_type": "code",
   "execution_count": 6,
   "id": "be582a32",
   "metadata": {},
   "outputs": [
    {
     "data": {
      "text/plain": [
       "语文    50\n",
       "数学    34\n",
       "英语    38\n",
       "理综    14\n",
       "dtype: int32"
      ]
     },
     "execution_count": 6,
     "metadata": {},
     "output_type": "execute_result"
    }
   ],
   "source": [
    "d2 = Series(data=np.random.randint(0,150,size=4),index=d.index)\n",
    "d2"
   ]
  },
  {
   "cell_type": "code",
   "execution_count": 30,
   "id": "da193a25",
   "metadata": {},
   "outputs": [
    {
     "data": {
      "text/plain": [
       "理综    300\n",
       "dtype: int64"
      ]
     },
     "execution_count": 30,
     "metadata": {},
     "output_type": "execute_result"
    }
   ],
   "source": [
    "#切片操作，一般用于查看数据\n",
    "d.head(2)\n",
    "#d.tail(1)  #切尾部"
   ]
  },
  {
   "cell_type": "markdown",
   "id": "71c8b2b8",
   "metadata": {},
   "source": [
    "可以使用pd.isnull(),pd.notnull(),或者自带isnull(),notnull()函数检测缺失数据"
   ]
  },
  {
   "cell_type": "code",
   "execution_count": 7,
   "id": "e74ecd13",
   "metadata": {},
   "outputs": [
    {
     "data": {
      "text/plain": [
       "语文    150.0\n",
       "数学    150.0\n",
       "英语    150.0\n",
       "理综    300.0\n",
       "体育      NaN\n",
       "dtype: float64"
      ]
     },
     "execution_count": 7,
     "metadata": {},
     "output_type": "execute_result"
    }
   ],
   "source": [
    "d3 = Series(data=dic,index=[\"语文\",\"数学\",\"英语\",\"理综\",\"体育\"])\n",
    "d3"
   ]
  },
  {
   "cell_type": "code",
   "execution_count": 32,
   "id": "c7f76801",
   "metadata": {},
   "outputs": [
    {
     "data": {
      "text/plain": [
       "语文    False\n",
       "数学    False\n",
       "英语    False\n",
       "理综    False\n",
       "体育     True\n",
       "dtype: bool"
      ]
     },
     "execution_count": 32,
     "metadata": {},
     "output_type": "execute_result"
    }
   ],
   "source": [
    "d3.isnull()"
   ]
  },
  {
   "cell_type": "code",
   "execution_count": 33,
   "id": "ee23f027",
   "metadata": {},
   "outputs": [
    {
     "data": {
      "text/plain": [
       "True"
      ]
     },
     "execution_count": 33,
     "metadata": {},
     "output_type": "execute_result"
    }
   ],
   "source": [
    "d3.isnull().any()"
   ]
  },
  {
   "cell_type": "code",
   "execution_count": 35,
   "id": "a8022043",
   "metadata": {},
   "outputs": [
    {
     "data": {
      "text/plain": [
       "语文     True\n",
       "数学     True\n",
       "英语     True\n",
       "理综     True\n",
       "体育    False\n",
       "dtype: bool"
      ]
     },
     "execution_count": 35,
     "metadata": {},
     "output_type": "execute_result"
    }
   ],
   "source": [
    "d3.notnull()"
   ]
  },
  {
   "cell_type": "markdown",
   "id": "6840c2ba",
   "metadata": {},
   "source": [
    "Series对象本身及其示例都有一个name属性"
   ]
  },
  {
   "cell_type": "code",
   "execution_count": 37,
   "id": "c85196d0",
   "metadata": {},
   "outputs": [
    {
     "data": {
      "text/plain": [
       "语文    150.0\n",
       "数学    150.0\n",
       "英语    150.0\n",
       "理综    300.0\n",
       "体育      NaN\n",
       "Name: 学科, dtype: float64"
      ]
     },
     "execution_count": 37,
     "metadata": {},
     "output_type": "execute_result"
    }
   ],
   "source": [
    "d3.name = \"学科\"\n",
    "d3"
   ]
  },
  {
   "cell_type": "markdown",
   "id": "13feeae2",
   "metadata": {},
   "source": [
    "排序"
   ]
  },
  {
   "cell_type": "code",
   "execution_count": 8,
   "id": "76111872",
   "metadata": {},
   "outputs": [
    {
     "data": {
      "text/plain": [
       "b    16\n",
       "c     8\n",
       "d    69\n",
       "a    88\n",
       "e     6\n",
       "Name: score, dtype: int32"
      ]
     },
     "execution_count": 8,
     "metadata": {},
     "output_type": "execute_result"
    }
   ],
   "source": [
    "score = Series(data=np.random.randint(0,100,size=5),index=list(\"bcdae\"),name=\"score\")\n",
    "score"
   ]
  },
  {
   "cell_type": "code",
   "execution_count": 40,
   "id": "0c3c2da4",
   "metadata": {},
   "outputs": [
    {
     "data": {
      "text/plain": [
       "e    97\n",
       "a    54\n",
       "c    38\n",
       "d    28\n",
       "b    19\n",
       "Name: score, dtype: int32"
      ]
     },
     "execution_count": 40,
     "metadata": {},
     "output_type": "execute_result"
    }
   ],
   "source": [
    "score.sort_values(ascending=False)"
   ]
  },
  {
   "cell_type": "code",
   "execution_count": 41,
   "id": "edd4f403",
   "metadata": {},
   "outputs": [
    {
     "data": {
      "text/plain": [
       "a    54\n",
       "b    19\n",
       "c    38\n",
       "d    28\n",
       "e    97\n",
       "Name: score, dtype: int32"
      ]
     },
     "execution_count": 41,
     "metadata": {},
     "output_type": "execute_result"
    }
   ],
   "source": [
    "score.sort_index(ascending=True)"
   ]
  },
  {
   "cell_type": "markdown",
   "id": "a0703fb4",
   "metadata": {},
   "source": [
    "统计值出现的次数"
   ]
  },
  {
   "cell_type": "markdown",
   "id": "5a8da73c",
   "metadata": {},
   "source": [
    "R 最近消费时间  \n",
    "F 频率  \n",
    "M 消费金融"
   ]
  },
  {
   "cell_type": "code",
   "execution_count": 43,
   "id": "aea41852",
   "metadata": {
    "collapsed": true
   },
   "outputs": [
    {
     "data": {
      "text/plain": [
       "0     3\n",
       "1     1\n",
       "2     2\n",
       "3     9\n",
       "4     4\n",
       "     ..\n",
       "95    1\n",
       "96    1\n",
       "97    6\n",
       "98    4\n",
       "99    0\n",
       "Length: 100, dtype: int32"
      ]
     },
     "execution_count": 43,
     "metadata": {},
     "output_type": "execute_result"
    }
   ],
   "source": [
    "user_id = Series(data=np.random.randint(0,10,100))\n",
    "user_id"
   ]
  },
  {
   "cell_type": "code",
   "execution_count": 44,
   "id": "7e511768",
   "metadata": {},
   "outputs": [
    {
     "data": {
      "text/plain": [
       "<bound method IndexOpsMixin.value_counts of 0     3\n",
       "1     1\n",
       "2     2\n",
       "3     9\n",
       "4     4\n",
       "     ..\n",
       "95    1\n",
       "96    1\n",
       "97    6\n",
       "98    4\n",
       "99    0\n",
       "Length: 100, dtype: int32>"
      ]
     },
     "execution_count": 44,
     "metadata": {},
     "output_type": "execute_result"
    }
   ],
   "source": [
    "user_id.value_counts"
   ]
  },
  {
   "cell_type": "markdown",
   "id": "96001c1e",
   "metadata": {},
   "source": [
    "#### 4）Series的运算"
   ]
  },
  {
   "cell_type": "markdown",
   "id": "e03e32ba",
   "metadata": {},
   "source": [
    "numpy  聚合\n",
    "     广播机制"
   ]
  },
  {
   "cell_type": "code",
   "execution_count": 45,
   "id": "e062bf99",
   "metadata": {},
   "outputs": [
    {
     "data": {
      "text/plain": [
       "array([5, 6, 7, 8, 9])"
      ]
     },
     "execution_count": 45,
     "metadata": {},
     "output_type": "execute_result"
    }
   ],
   "source": [
    "n = np.array([1,2,3,4,5])\n",
    "n + 4"
   ]
  },
  {
   "cell_type": "code",
   "execution_count": 47,
   "id": "efd6b057",
   "metadata": {},
   "outputs": [
    {
     "data": {
      "text/plain": [
       "b    21\n",
       "c    40\n",
       "d    30\n",
       "a    56\n",
       "e    99\n",
       "Name: score, dtype: int32"
      ]
     },
     "execution_count": 47,
     "metadata": {},
     "output_type": "execute_result"
    }
   ],
   "source": [
    "score + 2"
   ]
  },
  {
   "cell_type": "code",
   "execution_count": 48,
   "id": "bdbd6825",
   "metadata": {},
   "outputs": [
    {
     "data": {
      "text/plain": [
       "b     20\n",
       "c     40\n",
       "d     31\n",
       "a     58\n",
       "e    102\n",
       "Name: score, dtype: int32"
      ]
     },
     "execution_count": 48,
     "metadata": {},
     "output_type": "execute_result"
    }
   ],
   "source": [
    "score + n"
   ]
  },
  {
   "cell_type": "markdown",
   "id": "294c1619",
   "metadata": {},
   "source": [
    "(2)Series之间的运算  \n",
    "在运算中自动对齐不通索引的数据  \n",
    "如果索引不对应，则补NaN"
   ]
  },
  {
   "cell_type": "code",
   "execution_count": 10,
   "id": "af74e842",
   "metadata": {},
   "outputs": [
    {
     "data": {
      "text/plain": [
       "a    5\n",
       "b    3\n",
       "c    3\n",
       "d    9\n",
       "e    4\n",
       "dtype: int32"
      ]
     },
     "metadata": {},
     "output_type": "display_data"
    },
    {
     "data": {
      "text/plain": [
       "e    9\n",
       "b    3\n",
       "c    0\n",
       "a    4\n",
       "dtype: int32"
      ]
     },
     "metadata": {},
     "output_type": "display_data"
    }
   ],
   "source": [
    "s1 = Series(data=np.random.randint(0,10,size=5),index=list(\"abcde\"))\n",
    "s2 = Series(data=np.random.randint(0,10,size=4),index=list(\"ebca\"))\n",
    "display(s1,s2)"
   ]
  },
  {
   "cell_type": "code",
   "execution_count": 11,
   "id": "d2edb017",
   "metadata": {},
   "outputs": [
    {
     "data": {
      "text/plain": [
       "a     9.0\n",
       "b     6.0\n",
       "c     3.0\n",
       "d     NaN\n",
       "e    13.0\n",
       "dtype: float64"
      ]
     },
     "execution_count": 11,
     "metadata": {},
     "output_type": "execute_result"
    }
   ],
   "source": [
    "s1 + s2 "
   ]
  },
  {
   "cell_type": "markdown",
   "id": "001fcd55",
   "metadata": {},
   "source": [
    "注意：想要保留所有的index，则需要使用  \n",
    "add（）加  \n",
    "sub（）减  \n",
    "mul（）乘  \n",
    "div（）除"
   ]
  },
  {
   "cell_type": "code",
   "execution_count": 15,
   "id": "5bdc8ff9",
   "metadata": {},
   "outputs": [
    {
     "data": {
      "text/plain": [
       "a     9.0\n",
       "b     6.0\n",
       "c     3.0\n",
       "d     9.0\n",
       "e    13.0\n",
       "dtype: float64"
      ]
     },
     "execution_count": 15,
     "metadata": {},
     "output_type": "execute_result"
    }
   ],
   "source": [
    "s1.add(s2,fill_value=0)"
   ]
  },
  {
   "cell_type": "code",
   "execution_count": 20,
   "id": "5128b5cd",
   "metadata": {},
   "outputs": [
    {
     "data": {
      "text/plain": [
       "语文    105\n",
       "数学     92\n",
       "英语     34\n",
       "理综     67\n",
       "Name: 理科, dtype: int32"
      ]
     },
     "metadata": {},
     "output_type": "display_data"
    },
    {
     "data": {
      "text/plain": [
       "语文    66\n",
       "数学    85\n",
       "英语    22\n",
       "文综    55\n",
       "Name: 文科, dtype: int32"
      ]
     },
     "metadata": {},
     "output_type": "display_data"
    }
   ],
   "source": [
    "index1 = [\"语文\",\"数学\",\"英语\",\"理综\"]\n",
    "index2 = [\"语文\",\"数学\",\"英语\",\"文综\"]\n",
    "\n",
    "score1 = Series(data=np.random.randint(0,150,size=4),index=index1,name=\"理科\")\n",
    "score2 = Series(data=np.random.randint(0,150,size=4),index=index2,name=\"文科\")\n",
    "display(score1,score2)"
   ]
  },
  {
   "cell_type": "code",
   "execution_count": 21,
   "id": "741a4d8b",
   "metadata": {},
   "outputs": [
    {
     "data": {
      "text/plain": [
       "数学    177.0\n",
       "文综      NaN\n",
       "理综      NaN\n",
       "英语     56.0\n",
       "语文    171.0\n",
       "dtype: float64"
      ]
     },
     "execution_count": 21,
     "metadata": {},
     "output_type": "execute_result"
    }
   ],
   "source": [
    "score2 + score1 #NaN和任何运算都是空值"
   ]
  },
  {
   "cell_type": "code",
   "execution_count": 23,
   "id": "5236eead",
   "metadata": {},
   "outputs": [
    {
     "data": {
      "text/plain": [
       "数学    177.0\n",
       "文综     55.0\n",
       "理综     67.0\n",
       "英语     56.0\n",
       "语文    171.0\n",
       "dtype: float64"
      ]
     },
     "execution_count": 23,
     "metadata": {},
     "output_type": "execute_result"
    }
   ],
   "source": [
    "score1.add(score2,fill_value=0)"
   ]
  },
  {
   "cell_type": "code",
   "execution_count": 32,
   "id": "6b2de907",
   "metadata": {},
   "outputs": [
    {
     "data": {
      "text/plain": [
       "lucy    17\n",
       "mery    95\n",
       "tom      3\n",
       "jack     2\n",
       "Name: python, dtype: int32"
      ]
     },
     "metadata": {},
     "output_type": "display_data"
    },
    {
     "data": {
      "text/plain": [
       "lucy    73\n",
       "mery    49\n",
       "tom      9\n",
       "jack    80\n",
       "Name: java, dtype: int32"
      ]
     },
     "metadata": {},
     "output_type": "display_data"
    }
   ],
   "source": [
    "index = [\"lucy\",\"mery\",\"tom\",\"jack\"]\n",
    "python = Series(data=np.random.randint(0,100,size=4),index=index,name=\"python\")\n",
    "java = Series(data=np.random.randint(0,100,size=4),index=index,name=\"java\")\n",
    "display(python,java)"
   ]
  },
  {
   "cell_type": "code",
   "execution_count": 37,
   "id": "3468a63c",
   "metadata": {},
   "outputs": [
    {
     "data": {
      "text/plain": [
       "lucy    45.0\n",
       "mery    72.0\n",
       "tom      6.0\n",
       "jack    41.0\n",
       "dtype: float64"
      ]
     },
     "execution_count": 37,
     "metadata": {},
     "output_type": "execute_result"
    }
   ],
   "source": [
    "(python + java)/2"
   ]
  },
  {
   "cell_type": "code",
   "execution_count": 38,
   "id": "b5ce4268",
   "metadata": {},
   "outputs": [
    {
     "data": {
      "text/plain": [
       "lucy    17\n",
       "tom      3\n",
       "jack     2\n",
       "Name: python, dtype: int32"
      ]
     },
     "execution_count": 38,
     "metadata": {},
     "output_type": "execute_result"
    }
   ],
   "source": [
    "#python[python < 60]\n",
    "python.loc[python < 60]"
   ]
  },
  {
   "cell_type": "code",
   "execution_count": 35,
   "id": "70171c93",
   "metadata": {},
   "outputs": [
    {
     "data": {
      "text/plain": [
       "Index(['lucy', 'tom', 'jack'], dtype='object')"
      ]
     },
     "execution_count": 35,
     "metadata": {},
     "output_type": "execute_result"
    }
   ],
   "source": [
    "python.loc[python < 60].index #python不及格的学生名字"
   ]
  },
  {
   "cell_type": "code",
   "execution_count": 41,
   "id": "8b0b3735",
   "metadata": {},
   "outputs": [
    {
     "data": {
      "text/plain": [
       "lucy     17\n",
       "mery    105\n",
       "tom       3\n",
       "jack      2\n",
       "Name: python, dtype: int32"
      ]
     },
     "execution_count": 41,
     "metadata": {},
     "output_type": "execute_result"
    }
   ],
   "source": [
    "python.loc[\"mery\"] += 10\n",
    "python"
   ]
  },
  {
   "cell_type": "code",
   "execution_count": 44,
   "id": "2378a4c1",
   "metadata": {},
   "outputs": [
    {
     "data": {
      "text/plain": [
       "31.75"
      ]
     },
     "execution_count": 44,
     "metadata": {},
     "output_type": "execute_result"
    }
   ],
   "source": [
    "#求平均值\n",
    "# python.values.mean()\n",
    "python.mean()"
   ]
  },
  {
   "cell_type": "markdown",
   "id": "50e61998",
   "metadata": {},
   "source": [
    "常用操作：  \n",
    "\t属性访问：index，values, dtype, shape  \n",
    "\t查看头尾n个元素： head(), tail()  \n",
    "\tisnull(), notnull() 配合 any(), all()  \n",
    "\t值排序：sort_values(ascending=True)  \n",
    "\t索引排序：sort_index()  \n",
    "\t统计元素次数：value_counts()  \n",
    "\t去重操作：unique()  [A, B, A, B, C] --> [A, B, C]  \n",
    "\t\n",
    "运算：  \n",
    "\tSeries + num    广播  \n",
    "\tSeries + numpy  先转换成numpy类型再运算  \n",
    "\tSeries + Series 索引对齐，不对齐补空值  \n",
    "\t操作函数： add, sub, mul, div  \n",
    "\t或者可以先处理空值再运算  "
   ]
  },
  {
   "cell_type": "markdown",
   "id": "28457ed9",
   "metadata": {},
   "source": [
    "### 2.DataFrame"
   ]
  },
  {
   "cell_type": "markdown",
   "id": "5c52caf9",
   "metadata": {},
   "source": [
    "表格数据结构：二维数据，有行有列，且都有索引  \n",
    "是Series的字典"
   ]
  },
  {
   "cell_type": "code",
   "execution_count": 2,
   "id": "8411d00b",
   "metadata": {},
   "outputs": [
    {
     "ename": "SyntaxError",
     "evalue": "leading zeros in decimal integer literals are not permitted; use an 0o prefix for octal integers (705711947.py, line 2)",
     "output_type": "error",
     "traceback": [
      "\u001b[1;36m  Cell \u001b[1;32mIn [2], line 2\u001b[1;36m\u001b[0m\n\u001b[1;33m    \"userid\":Series([001,002,003]),\u001b[0m\n\u001b[1;37m                       ^\u001b[0m\n\u001b[1;31mSyntaxError\u001b[0m\u001b[1;31m:\u001b[0m leading zeros in decimal integer literals are not permitted; use an 0o prefix for octal integers\n"
     ]
    }
   ],
   "source": [
    "dic ={\n",
    "    \"userid\":Series([001,002,003]),\n",
    "    \"uname\":Series([lucy,mery,tom])\n",
    "}\n",
    "dic"
   ]
  },
  {
   "cell_type": "code",
   "execution_count": 3,
   "id": "f4abd8c1",
   "metadata": {},
   "outputs": [
    {
     "data": {
      "text/html": [
       "<div>\n",
       "<style scoped>\n",
       "    .dataframe tbody tr th:only-of-type {\n",
       "        vertical-align: middle;\n",
       "    }\n",
       "\n",
       "    .dataframe tbody tr th {\n",
       "        vertical-align: top;\n",
       "    }\n",
       "\n",
       "    .dataframe thead th {\n",
       "        text-align: right;\n",
       "    }\n",
       "</style>\n",
       "<table border=\"1\" class=\"dataframe\">\n",
       "  <thead>\n",
       "    <tr style=\"text-align: right;\">\n",
       "      <th></th>\n",
       "      <th>A</th>\n",
       "      <th>B</th>\n",
       "      <th>C</th>\n",
       "      <th>D</th>\n",
       "      <th>E</th>\n",
       "    </tr>\n",
       "  </thead>\n",
       "  <tbody>\n",
       "    <tr>\n",
       "      <th>a</th>\n",
       "      <td>25</td>\n",
       "      <td>56</td>\n",
       "      <td>68</td>\n",
       "      <td>91</td>\n",
       "      <td>10</td>\n",
       "    </tr>\n",
       "    <tr>\n",
       "      <th>d</th>\n",
       "      <td>56</td>\n",
       "      <td>36</td>\n",
       "      <td>76</td>\n",
       "      <td>70</td>\n",
       "      <td>17</td>\n",
       "    </tr>\n",
       "    <tr>\n",
       "      <th>c</th>\n",
       "      <td>66</td>\n",
       "      <td>0</td>\n",
       "      <td>42</td>\n",
       "      <td>71</td>\n",
       "      <td>90</td>\n",
       "    </tr>\n",
       "  </tbody>\n",
       "</table>\n",
       "</div>"
      ],
      "text/plain": [
       "    A   B   C   D   E\n",
       "a  25  56  68  91  10\n",
       "d  56  36  76  70  17\n",
       "c  66   0  42  71  90"
      ]
     },
     "execution_count": 3,
     "metadata": {},
     "output_type": "execute_result"
    }
   ],
   "source": [
    "DataFrame(data=np.random.randint(0,100,size=(3,5)),index=list(\"adc\"),columns=list(\"ABCDE\"))"
   ]
  },
  {
   "cell_type": "code",
   "execution_count": 4,
   "id": "e2622cce",
   "metadata": {},
   "outputs": [
    {
     "data": {
      "text/html": [
       "<div>\n",
       "<style scoped>\n",
       "    .dataframe tbody tr th:only-of-type {\n",
       "        vertical-align: middle;\n",
       "    }\n",
       "\n",
       "    .dataframe tbody tr th {\n",
       "        vertical-align: top;\n",
       "    }\n",
       "\n",
       "    .dataframe thead th {\n",
       "        text-align: right;\n",
       "    }\n",
       "</style>\n",
       "<table border=\"1\" class=\"dataframe\">\n",
       "  <thead>\n",
       "    <tr style=\"text-align: right;\">\n",
       "      <th></th>\n",
       "      <th>A</th>\n",
       "      <th>B</th>\n",
       "      <th>C</th>\n",
       "      <th>D</th>\n",
       "      <th>E</th>\n",
       "    </tr>\n",
       "  </thead>\n",
       "  <tbody>\n",
       "    <tr>\n",
       "      <th>a</th>\n",
       "      <td>15</td>\n",
       "      <td>93</td>\n",
       "      <td>99</td>\n",
       "      <td>83</td>\n",
       "      <td>71</td>\n",
       "    </tr>\n",
       "    <tr>\n",
       "      <th>b</th>\n",
       "      <td>63</td>\n",
       "      <td>88</td>\n",
       "      <td>7</td>\n",
       "      <td>34</td>\n",
       "      <td>26</td>\n",
       "    </tr>\n",
       "    <tr>\n",
       "      <th>c</th>\n",
       "      <td>75</td>\n",
       "      <td>49</td>\n",
       "      <td>58</td>\n",
       "      <td>78</td>\n",
       "      <td>67</td>\n",
       "    </tr>\n",
       "  </tbody>\n",
       "</table>\n",
       "</div>"
      ],
      "text/plain": [
       "    A   B   C   D   E\n",
       "a  15  93  99  83  71\n",
       "b  63  88   7  34  26\n",
       "c  75  49  58  78  67"
      ]
     },
     "execution_count": 4,
     "metadata": {},
     "output_type": "execute_result"
    }
   ],
   "source": [
    "dic = {\n",
    "    \"A\":np.random.randint(0,100,size=3),\n",
    "    \"B\":np.random.randint(0,100,size=3),\n",
    "    \"C\":np.random.randint(0,100,size=3),\n",
    "    \"D\":np.random.randint(0,100,size=3),\n",
    "    \"E\":np.random.randint(0,100,size=3)\n",
    "    \n",
    "}\n",
    "DataFrame(data=dic,index=list(\"abc\"))"
   ]
  },
  {
   "cell_type": "code",
   "execution_count": null,
   "id": "73f1590c",
   "metadata": {},
   "outputs": [],
   "source": [
    "pd.read_csv()\n",
    "pd.read_table()\n",
    "pd.read_excel()"
   ]
  },
  {
   "cell_type": "code",
   "execution_count": 80,
   "id": "d4f22dff",
   "metadata": {},
   "outputs": [
    {
     "data": {
      "text/html": [
       "<div>\n",
       "<style scoped>\n",
       "    .dataframe tbody tr th:only-of-type {\n",
       "        vertical-align: middle;\n",
       "    }\n",
       "\n",
       "    .dataframe tbody tr th {\n",
       "        vertical-align: top;\n",
       "    }\n",
       "\n",
       "    .dataframe thead th {\n",
       "        text-align: right;\n",
       "    }\n",
       "</style>\n",
       "<table border=\"1\" class=\"dataframe\">\n",
       "  <thead>\n",
       "    <tr style=\"text-align: right;\">\n",
       "      <th></th>\n",
       "      <th>12400F</th>\n",
       "      <th>1589</th>\n",
       "    </tr>\n",
       "    <tr>\n",
       "      <th>CPU</th>\n",
       "      <th></th>\n",
       "      <th></th>\n",
       "    </tr>\n",
       "  </thead>\n",
       "  <tbody>\n",
       "    <tr>\n",
       "      <th>主板</th>\n",
       "      <td>华硕H610M-A D4</td>\n",
       "      <td>NaN</td>\n",
       "    </tr>\n",
       "    <tr>\n",
       "      <th>显卡</th>\n",
       "      <td>3080</td>\n",
       "      <td>4599.0</td>\n",
       "    </tr>\n",
       "    <tr>\n",
       "      <th>内存</th>\n",
       "      <td>酷兽 金甲 3200 8G *2</td>\n",
       "      <td>244.0</td>\n",
       "    </tr>\n",
       "    <tr>\n",
       "      <th>内存</th>\n",
       "      <td>恺侠RC20 1T</td>\n",
       "      <td>422.0</td>\n",
       "    </tr>\n",
       "    <tr>\n",
       "      <th>电源</th>\n",
       "      <td>鑫谷GP700G黑金版（600W）</td>\n",
       "      <td>273.0</td>\n",
       "    </tr>\n",
       "    <tr>\n",
       "      <th>机箱</th>\n",
       "      <td>NaN</td>\n",
       "      <td>150.0</td>\n",
       "    </tr>\n",
       "    <tr>\n",
       "      <th>散热</th>\n",
       "      <td>玄冰400 v5</td>\n",
       "      <td>73.0</td>\n",
       "    </tr>\n",
       "    <tr>\n",
       "      <th>显示器</th>\n",
       "      <td>海信 27G5F-SE</td>\n",
       "      <td>1199.0</td>\n",
       "    </tr>\n",
       "    <tr>\n",
       "      <th>NaN</th>\n",
       "      <td>NaN</td>\n",
       "      <td>8549.0</td>\n",
       "    </tr>\n",
       "  </tbody>\n",
       "</table>\n",
       "</div>"
      ],
      "text/plain": [
       "                12400F    1589\n",
       "CPU                           \n",
       "主板        华硕H610M-A D4     NaN\n",
       "显卡                3080  4599.0\n",
       "内存    酷兽 金甲 3200 8G *2   244.0\n",
       "内存           恺侠RC20 1T   422.0\n",
       "电源   鑫谷GP700G黑金版（600W）   273.0\n",
       "机箱                 NaN   150.0\n",
       "散热            玄冰400 v5    73.0\n",
       "显示器        海信 27G5F-SE  1199.0\n",
       "NaN                NaN  8549.0"
      ]
     },
     "execution_count": 80,
     "metadata": {},
     "output_type": "execute_result"
    }
   ],
   "source": [
    "# coding=utf8\n",
    "df=pd.read_excel(\"配置.xlsx\",header=0,index_col=0,sheet_name=0)\n",
    "df"
   ]
  },
  {
   "cell_type": "code",
   "execution_count": 81,
   "id": "2dfa2fb0",
   "metadata": {
    "collapsed": true
   },
   "outputs": [
    {
     "name": "stderr",
     "output_type": "stream",
     "text": [
      "C:\\Users\\zhijiang.li\\AppData\\Local\\Temp\\ipykernel_10152\\1294478129.py:2: FutureWarning: As the xlwt package is no longer maintained, the xlwt engine will be removed in a future version of pandas. This is the only engine in pandas that supports writing in the xls format. Install openpyxl and write to an xlsx file instead. You can set the option io.excel.xls.writer to 'xlwt' to silence this warning. While this option is deprecated and will also raise a warning, it can be globally set and the warning suppressed.\n",
      "  df.to_excel(\"mydata.xls\")\n"
     ]
    }
   ],
   "source": [
    "#保存文件\n",
    "df.to_excel(\"mydata.xls\")"
   ]
  },
  {
   "cell_type": "markdown",
   "id": "9b6aad65",
   "metadata": {},
   "source": [
    "实打实的黑龙江"
   ]
  },
  {
   "cell_type": "code",
   "execution_count": 5,
   "id": "95d5890a",
   "metadata": {},
   "outputs": [
    {
     "data": {
      "text/plain": [
       "array([[31, 13, 50, 70, 48, 47],\n",
       "       [92, 47, 19, 28, 55, 66],\n",
       "       [46, 54, 50, 85, 46, 55],\n",
       "       [80, 66, 54, 92, 50, 72],\n",
       "       [91, 59, 43, 38,  0, 85],\n",
       "       [56, 75, 58, 65, 69, 59]])"
      ]
     },
     "execution_count": 5,
     "metadata": {},
     "output_type": "execute_result"
    }
   ],
   "source": [
    "arr = np.random.randint(0,100,size=(6,6))\n",
    "arr"
   ]
  },
  {
   "cell_type": "code",
   "execution_count": null,
   "id": "ea0cc983",
   "metadata": {},
   "outputs": [],
   "source": []
  },
  {
   "cell_type": "markdown",
   "id": "7767b793",
   "metadata": {},
   "source": [
    "# "
   ]
  },
  {
   "cell_type": "code",
   "execution_count": null,
   "id": "325d1654",
   "metadata": {},
   "outputs": [],
   "source": []
  }
 ],
 "metadata": {
  "kernelspec": {
   "display_name": "Python 3 (ipykernel)",
   "language": "python",
   "name": "python3"
  },
  "language_info": {
   "codemirror_mode": {
    "name": "ipython",
    "version": 3
   },
   "file_extension": ".py",
   "mimetype": "text/x-python",
   "name": "python",
   "nbconvert_exporter": "python",
   "pygments_lexer": "ipython3",
   "version": "3.9.11"
  }
 },
 "nbformat": 4,
 "nbformat_minor": 5
}
